{
 "cells": [
  {
   "cell_type": "markdown",
   "metadata": {},
   "source": [
    "2. Función que permite mostrar los píxeles seleecionados de cada una de las regiones.\n",
    "    - Nose ha encontrado otra forma de hacer este ejercicio sin usar inRange()\n"
   ]
  },
  {
   "cell_type": "code",
   "execution_count": 11,
   "metadata": {},
   "outputs": [],
   "source": [
    "#Import de libs\n",
    "import cv2\n",
    "import numpy as np\n",
    "import imageio as iio\n",
    "\n"
   ]
  },
  {
   "cell_type": "code",
   "execution_count": 10,
   "metadata": {},
   "outputs": [
    {
     "data": {
      "text/plain": [
       "<function destroyAllWindows>"
      ]
     },
     "execution_count": 10,
     "metadata": {},
     "output_type": "execute_result"
    }
   ],
   "source": [
    "img= cv2.imread(\"imgs/imagenMarcada.png\")\n",
    "\n",
    "\n",
    "#Se establece la tonalidad de colores(máximos y mínimo)\n",
    "#opencv trabaja con BGR-->[40,255],[0,120],[0,120]\n",
    "minimosAzul= np.array([40,0,0])\n",
    "maximosAzul= np.array([255,120,120])\n",
    "\n",
    "minimosVerde= np.array([0,40,0])\n",
    "maximosVerde= np.array([120,255,120])\n",
    "\n",
    "minimosRojo= np.array([0,0,40])\n",
    "maximosRojo= np.array([120,120,255])\n",
    "\n",
    "\n",
    "#detecta los píxeles en los rangos espceficados anteriormente\n",
    "maskAzul= cv2.inRange(img, minimosAzul,maximosAzul)\n",
    "maskVerde= cv2.inRange(img,minimosVerde,maximosVerde)\n",
    "maskRojo= cv2.inRange(img,minimosRojo,maximosRojo)\n",
    "\n",
    "\n",
    "#se muestra las dos ímagenes, la original y la nueva\n",
    "cv2.imshow(\"original\",img)\n",
    "cv2.imshow(\"Azul \",maskAzul)\n",
    "cv2.imshow(\"Verde\",maskVerde)\n",
    "cv2.imshow(\"Rojo\",maskRojo)\n",
    "\n",
    "#Salimos al pulsar alguna tecla\n",
    "\n",
    "cv2.waitKey(0)\n",
    "cv2.destroyAllWindows\n"
   ]
  }
 ],
 "metadata": {
  "kernelspec": {
   "display_name": "Python 3",
   "language": "python",
   "name": "python3"
  },
  "language_info": {
   "codemirror_mode": {
    "name": "ipython",
    "version": 3
   },
   "file_extension": ".py",
   "mimetype": "text/x-python",
   "name": "python",
   "nbconvert_exporter": "python",
   "pygments_lexer": "ipython3",
   "version": "3.8.5"
  }
 },
 "nbformat": 4,
 "nbformat_minor": 4
}
