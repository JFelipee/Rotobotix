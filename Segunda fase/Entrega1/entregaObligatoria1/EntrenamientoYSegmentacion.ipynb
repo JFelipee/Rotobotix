{
 "cells": [
  {
   "cell_type": "code",
   "execution_count": 7,
   "metadata": {},
   "outputs": [],
   "source": [
    "import imageio as iio\n",
    "import numpy as np\n",
    "from matplotlib import pyplot as plt\n",
    "from mpl_toolkits.mplot3d import Axes3D as ax3d\n",
    "import normalizaImg as normaliza\n",
    "import numpy as np\n",
    "from sklearn.neighbors.nearest_centroid import NearestCentroid\n",
    "from sklearn.neighbors import KNeighborsClassifier\n",
    "from sklearn.decomposition import PCA # noqa, disable flycheck warning \n",
    "import cv2\n"
   ]
  },
  {
   "cell_type": "code",
   "execution_count": 8,
   "metadata": {},
   "outputs": [],
   "source": [
    "\n",
    "# Leo las imagenes de entrenamiento\n",
    "orig_img = iio.imread('imgs/imagenOrigenPelota.png')\n",
    "mark_img  = iio.imread('imgs/imagenMarcadaPelota.png')\n",
    "\n",
    "img_norm = np.rollaxis((np.rollaxis(orig_img, 2)+0.1)/(np.sum(orig_img, 2)+0.1), 0, 3)\n",
    "\n",
    "data_red = img_norm[np.where(np.all(np.equal(mark_img, (255, 0, 0)), 2))]\n",
    "data_green = img_norm[np.where(np.all(np.equal(mark_img, (0, 255, 0)), 2))]\n",
    "data_blue = img_norm[np.where(np.all(np.equal(mark_img, (0, 0, 255)), 2))]\n",
    "\n",
    "\n",
    "data = np.concatenate([data_red, data_green, data_blue])\n",
    "\n",
    "target = np.concatenate([np.zeros(len(data_red[:]), dtype=int),\n",
    "                             np.ones(len(data_green[:]), dtype=int),\n",
    "                             np.full(len(data_blue[:]), 2, dtype=int)])\n",
    "\n",
    "clf = NearestCentroid()\n",
    "clf.fit(data, target)\n",
    "#####################################################################################\n",
    "\n",
    "#Iniciamos captura del Video A(primera escena)\n",
    "capture = cv2.VideoCapture('pelotRodadora.mp4')\n",
    "\n",
    "#Clasificamos el video\n",
    "\n",
    "while (True):\n",
    "    ret, frame = capture.read()\n",
    "    if ret ==True:\n",
    "        cv2.imshow('Vodeo Original', frame)\n",
    "    elif ret== False: \n",
    "        break\n",
    "    shape = frame.shape  # Segm all\n",
    "    frame_rgb = cv2.cvtColor(frame, cv2.COLOR_BGR2RGB)  # Segm all\n",
    "    img_norm =  frame_rgb\n",
    "\n",
    "    paleta = np.array([[255, 0, 0], [0, 255, 0], [0, 0, 255]], dtype=np.uint8)\n",
    "\n",
    "    \n",
    "    reshape = img_norm.reshape(shape[0]*shape[1], 3)\n",
    "    labels = clf.predict(reshape)\n",
    "  \n",
    "    reshape_back= labels.reshape(shape[0], shape[1])\n",
    "    \n",
    "    segImg = paleta[reshape_back]\n",
    " \n",
    "    cv2.imshow(\"Video con segmentación euclidea\",cv2.cvtColor(segImg,cv2.COLOR_RGB2BGR))\n",
    " \n",
    "    if cv2.waitKey(1) & 0xFF==ord('q'):#se usará para finalizar el video cuando se desee\n",
    "        break\n",
    "        \n",
    "#Cierra todo\n",
    "capture.release()\n",
    "cv2.destroyAllWindows()\n"
   ]
  }
 ],
 "metadata": {
  "kernelspec": {
   "display_name": "Python 3",
   "language": "python",
   "name": "python3"
  },
  "language_info": {
   "codemirror_mode": {
    "name": "ipython",
    "version": 3
   },
   "file_extension": ".py",
   "mimetype": "text/x-python",
   "name": "python",
   "nbconvert_exporter": "python",
   "pygments_lexer": "ipython3",
   "version": "3.8.5"
  }
 },
 "nbformat": 4,
 "nbformat_minor": 4
}
